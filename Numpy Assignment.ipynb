{
 "cells": [
  {
   "cell_type": "code",
   "execution_count": 1,
   "id": "9bb037ee",
   "metadata": {},
   "outputs": [],
   "source": [
    "import numpy as np\n",
    "list_ = [ '1' , \"2\", \"3\", \"4\", \"5\" ]\n",
    "array_list = np.array(object = list_)"
   ]
  },
  {
   "cell_type": "markdown",
   "id": "a2c3d69d",
   "metadata": {},
   "source": [
    "### Q1. Is there any difference in the data type of variables list_ and array_list? If there is then write a code to print the data types of both the variables."
   ]
  },
  {
   "cell_type": "markdown",
   "id": "fde07567",
   "metadata": {},
   "source": [
    "There is a difference in the data types of variable list_ aand array_list.\n",
    " - list_ is a list with string elements\n",
    " - array_list is a numpy array with string elements"
   ]
  },
  {
   "cell_type": "code",
   "execution_count": 2,
   "id": "6fc10b37",
   "metadata": {},
   "outputs": [
    {
     "data": {
      "text/plain": [
       "list"
      ]
     },
     "execution_count": 2,
     "metadata": {},
     "output_type": "execute_result"
    }
   ],
   "source": [
    "type(list_)"
   ]
  },
  {
   "cell_type": "code",
   "execution_count": 3,
   "id": "b648b82a",
   "metadata": {},
   "outputs": [
    {
     "data": {
      "text/plain": [
       "numpy.ndarray"
      ]
     },
     "execution_count": 3,
     "metadata": {},
     "output_type": "execute_result"
    }
   ],
   "source": [
    "type(array_list)"
   ]
  },
  {
   "cell_type": "markdown",
   "id": "ca118db9",
   "metadata": {},
   "source": [
    "### Q2. Write a code to print the data type of each and every element of both the variables list_ and arra_list."
   ]
  },
  {
   "cell_type": "code",
   "execution_count": 4,
   "id": "aacbb25c",
   "metadata": {},
   "outputs": [
    {
     "name": "stdout",
     "output_type": "stream",
     "text": [
      "Data types in list_:\n",
      "1: <class 'str'>\n",
      "2: <class 'str'>\n",
      "3: <class 'str'>\n",
      "4: <class 'str'>\n",
      "5: <class 'str'>\n"
     ]
    }
   ],
   "source": [
    "# Print data types for each element in list_\n",
    "print(\"Data types in list_:\")\n",
    "for i in list_:\n",
    "    print(f\"{i}: {type(i)}\")"
   ]
  },
  {
   "cell_type": "code",
   "execution_count": 5,
   "id": "547c07b5",
   "metadata": {},
   "outputs": [
    {
     "name": "stdout",
     "output_type": "stream",
     "text": [
      "Data types in array_list:\n",
      "1: <class 'numpy.str_'>\n",
      "2: <class 'numpy.str_'>\n",
      "3: <class 'numpy.str_'>\n",
      "4: <class 'numpy.str_'>\n",
      "5: <class 'numpy.str_'>\n"
     ]
    }
   ],
   "source": [
    "# Print data types for each element in array_list\n",
    "print(\"Data types in array_list:\")\n",
    "for i in array_list:\n",
    "    print(f\"{i}: {type(i)}\")"
   ]
  },
  {
   "cell_type": "markdown",
   "id": "21caa802",
   "metadata": {},
   "source": [
    "### Q3. Considering the following changes in the variable, array_list:\n",
    " - array_list = np.array(object = list_, dtype = int)\n",
    " * Will there be any difference in the data type of the elements present in both the variables, list_ and arra_list? If so then print the data types of each and every element present in both the variables, list_  and arra_list."
   ]
  },
  {
   "cell_type": "code",
   "execution_count": 6,
   "id": "9d066085",
   "metadata": {},
   "outputs": [],
   "source": [
    "import numpy as np\n",
    "list_ = [ '1' , \"2\", \"3\", \"4\", \"5\" ]\n",
    "array_list = np.array(object = list_, dtype = int)"
   ]
  },
  {
   "cell_type": "markdown",
   "id": "062bac53",
   "metadata": {},
   "source": [
    "There is  a difference in the data types of the elements present in the variable\n",
    " - list_ elements has string elements in a list\n",
    "  - array_list has numpy interger elements in the variable"
   ]
  },
  {
   "cell_type": "code",
   "execution_count": 7,
   "id": "492fe526",
   "metadata": {},
   "outputs": [
    {
     "name": "stdout",
     "output_type": "stream",
     "text": [
      "Data types in list_:\n",
      "1: <class 'str'>\n",
      "2: <class 'str'>\n",
      "3: <class 'str'>\n",
      "4: <class 'str'>\n",
      "5: <class 'str'>\n"
     ]
    }
   ],
   "source": [
    "# Print data types for each element in list_\n",
    "print(\"Data types in list_:\")\n",
    "for i in list_:\n",
    "    print(f\"{i}: {type(i)}\")"
   ]
  },
  {
   "cell_type": "code",
   "execution_count": 8,
   "id": "efdb403c",
   "metadata": {},
   "outputs": [
    {
     "name": "stdout",
     "output_type": "stream",
     "text": [
      "Data types in array_list:\n",
      "1: <class 'numpy.int32'>\n",
      "2: <class 'numpy.int32'>\n",
      "3: <class 'numpy.int32'>\n",
      "4: <class 'numpy.int32'>\n",
      "5: <class 'numpy.int32'>\n"
     ]
    }
   ],
   "source": [
    "# Print data types for each element in array_list\n",
    "print(\"Data types in array_list:\")\n",
    "for i in array_list:\n",
    "    print(f\"{i}: {type(i)}\")"
   ]
  },
  {
   "cell_type": "code",
   "execution_count": 9,
   "id": "7a15ae91",
   "metadata": {},
   "outputs": [],
   "source": [
    "# Consider the below code to answer further questions:\n",
    "import numpy as np\n",
    "num_list = [ [ 1 , 2 , 3 ] , [ 4 , 5 , 6 ] ]\n",
    "num_array = np.array(object = num_list)"
   ]
  },
  {
   "cell_type": "markdown",
   "id": "06057df4",
   "metadata": {},
   "source": [
    "### Q4. Write a code to find the following characteristics of variable, num_array:\n",
    " - (i) shape\n",
    " - (ii) size"
   ]
  },
  {
   "cell_type": "code",
   "execution_count": 10,
   "id": "9443d92a",
   "metadata": {},
   "outputs": [
    {
     "data": {
      "text/plain": [
       "(2, 3)"
      ]
     },
     "execution_count": 10,
     "metadata": {},
     "output_type": "execute_result"
    }
   ],
   "source": [
    "np.shape(num_list)"
   ]
  },
  {
   "cell_type": "code",
   "execution_count": 11,
   "id": "bdfbb494",
   "metadata": {},
   "outputs": [
    {
     "data": {
      "text/plain": [
       "(2, 3)"
      ]
     },
     "execution_count": 11,
     "metadata": {},
     "output_type": "execute_result"
    }
   ],
   "source": [
    "np.shape(num_array)"
   ]
  },
  {
   "cell_type": "code",
   "execution_count": 12,
   "id": "7ba8a9f0",
   "metadata": {},
   "outputs": [
    {
     "data": {
      "text/plain": [
       "6"
      ]
     },
     "execution_count": 12,
     "metadata": {},
     "output_type": "execute_result"
    }
   ],
   "source": [
    "np.size(num_list)"
   ]
  },
  {
   "cell_type": "code",
   "execution_count": 13,
   "id": "3264ec2e",
   "metadata": {},
   "outputs": [
    {
     "data": {
      "text/plain": [
       "6"
      ]
     },
     "execution_count": 13,
     "metadata": {},
     "output_type": "execute_result"
    }
   ],
   "source": [
    "np.size(num_array)"
   ]
  },
  {
   "cell_type": "markdown",
   "id": "93811693",
   "metadata": {},
   "source": [
    "### Q5. Write a code to create numpy array of 3*3 matrix containing zeros only, using a numpy array creation function."
   ]
  },
  {
   "cell_type": "code",
   "execution_count": 14,
   "id": "416ddefb",
   "metadata": {},
   "outputs": [
    {
     "data": {
      "text/plain": [
       "array([[0., 0., 0.],\n",
       "       [0., 0., 0.],\n",
       "       [0., 0., 0.]])"
      ]
     },
     "execution_count": 14,
     "metadata": {},
     "output_type": "execute_result"
    }
   ],
   "source": [
    "arr = np.zeros((3,3))\n",
    "arr"
   ]
  },
  {
   "cell_type": "code",
   "execution_count": 15,
   "id": "f941325c",
   "metadata": {},
   "outputs": [
    {
     "data": {
      "text/plain": [
       "(3, 3)"
      ]
     },
     "execution_count": 15,
     "metadata": {},
     "output_type": "execute_result"
    }
   ],
   "source": [
    "np.shape(arr)"
   ]
  },
  {
   "cell_type": "code",
   "execution_count": 16,
   "id": "aa9c25e3",
   "metadata": {},
   "outputs": [
    {
     "data": {
      "text/plain": [
       "9"
      ]
     },
     "execution_count": 16,
     "metadata": {},
     "output_type": "execute_result"
    }
   ],
   "source": [
    "np.size(arr)"
   ]
  },
  {
   "cell_type": "markdown",
   "id": "5ee2c1e9",
   "metadata": {},
   "source": [
    "### Q6. Create an identity matrix of shape (5,5) using numpy functions?\n",
    "[Hint: An identity matrix is a matrix containing 1 diagonally and other elements will be 0.]"
   ]
  },
  {
   "cell_type": "code",
   "execution_count": 17,
   "id": "cbb88ed7",
   "metadata": {},
   "outputs": [
    {
     "data": {
      "text/plain": [
       "array([[1., 0., 0., 0., 0.],\n",
       "       [0., 1., 0., 0., 0.],\n",
       "       [0., 0., 1., 0., 0.],\n",
       "       [0., 0., 0., 1., 0.],\n",
       "       [0., 0., 0., 0., 1.]])"
      ]
     },
     "execution_count": 17,
     "metadata": {},
     "output_type": "execute_result"
    }
   ],
   "source": [
    "alf = np.eye(5)\n",
    "alf"
   ]
  },
  {
   "cell_type": "code",
   "execution_count": 18,
   "id": "1ced51fd",
   "metadata": {},
   "outputs": [
    {
     "data": {
      "text/plain": [
       "(5, 5)"
      ]
     },
     "execution_count": 18,
     "metadata": {},
     "output_type": "execute_result"
    }
   ],
   "source": [
    "np.shape(alf)"
   ]
  },
  {
   "cell_type": "code",
   "execution_count": null,
   "id": "c93ef485",
   "metadata": {},
   "outputs": [],
   "source": []
  },
  {
   "cell_type": "code",
   "execution_count": null,
   "id": "d7978388",
   "metadata": {},
   "outputs": [],
   "source": []
  },
  {
   "cell_type": "code",
   "execution_count": null,
   "id": "42258bdb",
   "metadata": {},
   "outputs": [],
   "source": []
  },
  {
   "cell_type": "code",
   "execution_count": null,
   "id": "bd160055",
   "metadata": {},
   "outputs": [],
   "source": []
  }
 ],
 "metadata": {
  "kernelspec": {
   "display_name": "Python 3 (ipykernel)",
   "language": "python",
   "name": "python3"
  },
  "language_info": {
   "codemirror_mode": {
    "name": "ipython",
    "version": 3
   },
   "file_extension": ".py",
   "mimetype": "text/x-python",
   "name": "python",
   "nbconvert_exporter": "python",
   "pygments_lexer": "ipython3",
   "version": "3.11.5"
  }
 },
 "nbformat": 4,
 "nbformat_minor": 5
}
